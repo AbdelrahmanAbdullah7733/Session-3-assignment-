{
 "cells": [
  {
   "cell_type": "markdown",
   "id": "22a26c0c",
   "metadata": {},
   "source": [
    "# create comperehinsive list that sum even numbers only from input number to another number and this numbers users will enter it"
   ]
  },
  {
   "cell_type": "code",
   "execution_count": 30,
   "id": "b732f4a3",
   "metadata": {},
   "outputs": [],
   "source": [
    "def Sum_evens():\n",
    "    TheList=input('Your List With spaces: ').split()\n",
    "    TheNumber=int(input('enter the number you want to add: '))\n",
    "    Results=[]\n",
    "    for Num in TheList:\n",
    "        Num=int(Num)\n",
    "        if Num%2==0:\n",
    "            result=TheNumber+Num\n",
    "            Results.append(result)\n",
    "    return Results"
   ]
  },
  {
   "cell_type": "code",
   "execution_count": 31,
   "id": "baaf96f7",
   "metadata": {},
   "outputs": [
    {
     "name": "stdout",
     "output_type": "stream",
     "text": [
      "Your List With spaces: 1 2 3 4 5 6 7 8 9 10 100 120 \n",
      "enter the number you want to add: 2\n"
     ]
    },
    {
     "data": {
      "text/plain": [
       "[4, 6, 8, 10, 12, 102, 122]"
      ]
     },
     "execution_count": 31,
     "metadata": {},
     "output_type": "execute_result"
    }
   ],
   "source": [
    "Sum_evens()"
   ]
  },
  {
   "cell_type": "markdown",
   "id": "bbc3f785",
   "metadata": {},
   "source": [
    "# Find Largest and Smallest Numbers in a List"
   ]
  },
  {
   "cell_type": "code",
   "execution_count": 13,
   "id": "42b2829e",
   "metadata": {},
   "outputs": [],
   "source": [
    "def max_min(Thelist):\n",
    "    print(f'the maxmium is: {max(Thelist)}')\n",
    "    print(f'the minimum is: {min(Thelist)}')\n",
    "    "
   ]
  },
  {
   "cell_type": "code",
   "execution_count": 14,
   "id": "28e223f9",
   "metadata": {},
   "outputs": [
    {
     "name": "stdout",
     "output_type": "stream",
     "text": [
      "the maxmium is: 5\n",
      "the minimum is: 1\n"
     ]
    }
   ],
   "source": [
    "max_min([1,2,3,4,5])"
   ]
  },
  {
   "cell_type": "markdown",
   "id": "bbff03c3",
   "metadata": {},
   "source": [
    "# Count Occurrences of a Character in a String"
   ]
  },
  {
   "cell_type": "code",
   "execution_count": 21,
   "id": "a924389d",
   "metadata": {},
   "outputs": [],
   "source": [
    "def Count_Character(TheString,x):\n",
    "    return TheString.count(x)\n",
    "    "
   ]
  },
  {
   "cell_type": "code",
   "execution_count": 22,
   "id": "97ec9594",
   "metadata": {},
   "outputs": [
    {
     "data": {
      "text/plain": [
       "3"
      ]
     },
     "execution_count": 22,
     "metadata": {},
     "output_type": "execute_result"
    }
   ],
   "source": [
    "Count_Character('banana','a')"
   ]
  },
  {
   "cell_type": "code",
   "execution_count": 23,
   "id": "29620058",
   "metadata": {},
   "outputs": [
    {
     "data": {
      "text/plain": [
       "2"
      ]
     },
     "execution_count": 23,
     "metadata": {},
     "output_type": "execute_result"
    }
   ],
   "source": [
    "Count_Character('banana','n')"
   ]
  },
  {
   "cell_type": "code",
   "execution_count": 24,
   "id": "6f62aaca",
   "metadata": {},
   "outputs": [
    {
     "data": {
      "text/plain": [
       "1"
      ]
     },
     "execution_count": 24,
     "metadata": {},
     "output_type": "execute_result"
    }
   ],
   "source": [
    "Count_Character('banana','b')"
   ]
  },
  {
   "cell_type": "markdown",
   "id": "8d48c860",
   "metadata": {},
   "source": [
    "# Find Length of Longest Word in a Sentence"
   ]
  },
  {
   "cell_type": "code",
   "execution_count": 25,
   "id": "ea6bb072",
   "metadata": {},
   "outputs": [],
   "source": [
    "def longest_word(x):\n",
    "    list_of_words=x.split()\n",
    "    lengths=[]\n",
    "    for word in list_of_words:\n",
    "        lengths.append(len(word))\n",
    "    return max(lengths)\n",
    "        "
   ]
  },
  {
   "cell_type": "code",
   "execution_count": 26,
   "id": "6760bfec",
   "metadata": {},
   "outputs": [
    {
     "data": {
      "text/plain": [
       "11"
      ]
     },
     "execution_count": 26,
     "metadata": {},
     "output_type": "execute_result"
    }
   ],
   "source": [
    "longest_word(\"hi i'm abdelrahman i'm a student at amit learning\")"
   ]
  },
  {
   "cell_type": "markdown",
   "id": "278e54d4",
   "metadata": {},
   "source": [
    "# Sort a List of Numbers in Ascending and Descending Order\n"
   ]
  },
  {
   "cell_type": "code",
   "execution_count": 17,
   "id": "2276379d",
   "metadata": {},
   "outputs": [],
   "source": [
    "def sort_list(TheList):\n",
    "    print(f'Descending Order is: {sorted(TheList,reverse=True)}')\n",
    "    print(f'Ascending Order is: {sorted(TheList)}')\n",
    "    \n",
    "    "
   ]
  },
  {
   "cell_type": "code",
   "execution_count": 18,
   "id": "8c3d4f23",
   "metadata": {},
   "outputs": [
    {
     "name": "stdout",
     "output_type": "stream",
     "text": [
      "Descending Order is: [1000, 100, 88, 9, 8, 7, 6, 5, 3, 2, 1]\n",
      "Ascending Order is: [1, 2, 3, 5, 6, 7, 8, 9, 88, 100, 1000]\n"
     ]
    }
   ],
   "source": [
    "sort_list([2,6,5,8,7,9,1,3,88,100,1000])"
   ]
  },
  {
   "cell_type": "markdown",
   "id": "c662c613",
   "metadata": {},
   "source": [
    "# Program to remove all duplicates from a list:"
   ]
  },
  {
   "cell_type": "code",
   "execution_count": 21,
   "id": "34136c95",
   "metadata": {},
   "outputs": [],
   "source": [
    "def Remove_duplicates(TheList):\n",
    "    List_Of_Unique_Items=list(set(TheList))\n",
    "    return List_Of_Unique_Items"
   ]
  },
  {
   "cell_type": "code",
   "execution_count": 22,
   "id": "baddf66e",
   "metadata": {},
   "outputs": [
    {
     "data": {
      "text/plain": [
       "[1, 2, 3, 5, 6, 8]"
      ]
     },
     "execution_count": 22,
     "metadata": {},
     "output_type": "execute_result"
    }
   ],
   "source": [
    "Remove_duplicates([1,1,2,3,3,5,5,6,6,8,8])"
   ]
  },
  {
   "cell_type": "markdown",
   "id": "34003e47",
   "metadata": {},
   "source": [
    "# create calculator the add - subtract - divide - multiply two numbers and can check if number is odd or even"
   ]
  },
  {
   "cell_type": "code",
   "execution_count": 21,
   "id": "b7e4d987",
   "metadata": {},
   "outputs": [],
   "source": [
    "def calc():\n",
    "    Usage=input('what do you need==> check odd or even: 1, multiply: 2, divide: 3, add: 4, subtract: 5, Answer: ')\n",
    "    \n",
    "    if Usage=='1':     \n",
    "        Num=int(input('enter the number:'))        \n",
    "        if Num%2==0:\n",
    "            print(f'Number {Num} is even')\n",
    "        else:\n",
    "            print(f'Number {Num} is odd')\n",
    "    \n",
    "    elif Usage=='2':\n",
    "        Num1=float(input('enter first number '))\n",
    "        Num2=float(input('enter second number '))\n",
    "        return Num1*Num2\n",
    "    \n",
    "    elif Usage=='3':\n",
    "        Num1=float(input('enter first number '))\n",
    "        Num2=float(input('enter second number '))\n",
    "        return Num1/Num2\n",
    "    \n",
    "    elif Usage=='4':\n",
    "        Num1=float(input('enter first number '))\n",
    "        Num2=float(input('enter second number '))\n",
    "        return Num1+Num2\n",
    "    \n",
    "    elif Usage=='5':\n",
    "        Num1=float(input('enter first number '))\n",
    "        Num2=float(input('enter second number '))\n",
    "        return Num1-Num2\n",
    "    \n",
    "    else:\n",
    "        print('wrong choice')"
   ]
  },
  {
   "cell_type": "code",
   "execution_count": 22,
   "id": "cb4e16f8",
   "metadata": {},
   "outputs": [
    {
     "name": "stdout",
     "output_type": "stream",
     "text": [
      "what do you need==> check odd or even: 1, multiply: 2, divide: 3, add: 4, subtract: 5, Answer: 1\n",
      "enter the number:20\n",
      "Number 20 is even\n"
     ]
    }
   ],
   "source": [
    "calc()"
   ]
  },
  {
   "cell_type": "code",
   "execution_count": 23,
   "id": "6266608b",
   "metadata": {},
   "outputs": [
    {
     "name": "stdout",
     "output_type": "stream",
     "text": [
      "what do you need==> check odd or even: 1, multiply: 2, divide: 3, add: 4, subtract: 5, Answer: 2\n",
      "enter first number 4\n",
      "enter second number 8\n"
     ]
    },
    {
     "data": {
      "text/plain": [
       "32.0"
      ]
     },
     "execution_count": 23,
     "metadata": {},
     "output_type": "execute_result"
    }
   ],
   "source": [
    "calc()"
   ]
  },
  {
   "cell_type": "code",
   "execution_count": 24,
   "id": "9fe707fe",
   "metadata": {},
   "outputs": [
    {
     "name": "stdout",
     "output_type": "stream",
     "text": [
      "what do you need==> check odd or even: 1, multiply: 2, divide: 3, add: 4, subtract: 5, Answer: 3\n",
      "enter first number 99\n",
      "enter second number 3\n"
     ]
    },
    {
     "data": {
      "text/plain": [
       "33.0"
      ]
     },
     "execution_count": 24,
     "metadata": {},
     "output_type": "execute_result"
    }
   ],
   "source": [
    "calc()"
   ]
  },
  {
   "cell_type": "code",
   "execution_count": 25,
   "id": "e5618053",
   "metadata": {},
   "outputs": [
    {
     "name": "stdout",
     "output_type": "stream",
     "text": [
      "what do you need==> check odd or even: 1, multiply: 2, divide: 3, add: 4, subtract: 5, Answer: 4\n",
      "enter first number 80\n",
      "enter second number 80\n"
     ]
    },
    {
     "data": {
      "text/plain": [
       "160.0"
      ]
     },
     "execution_count": 25,
     "metadata": {},
     "output_type": "execute_result"
    }
   ],
   "source": [
    "calc()"
   ]
  },
  {
   "cell_type": "code",
   "execution_count": 26,
   "id": "81fded09",
   "metadata": {},
   "outputs": [
    {
     "name": "stdout",
     "output_type": "stream",
     "text": [
      "what do you need==> check odd or even: 1, multiply: 2, divide: 3, add: 4, subtract: 5, Answer: 5\n",
      "enter first number 95\n",
      "enter second number 65\n"
     ]
    },
    {
     "data": {
      "text/plain": [
       "30.0"
      ]
     },
     "execution_count": 26,
     "metadata": {},
     "output_type": "execute_result"
    }
   ],
   "source": [
    "calc()"
   ]
  },
  {
   "cell_type": "code",
   "execution_count": 27,
   "id": "4084c8dd",
   "metadata": {},
   "outputs": [
    {
     "name": "stdout",
     "output_type": "stream",
     "text": [
      "what do you need==> check odd or even: 1, multiply: 2, divide: 3, add: 4, subtract: 5, Answer: 8\n",
      "wrong choice\n"
     ]
    }
   ],
   "source": [
    "calc()"
   ]
  }
 ],
 "metadata": {
  "kernelspec": {
   "display_name": "Python 3 (ipykernel)",
   "language": "python",
   "name": "python3"
  },
  "language_info": {
   "codemirror_mode": {
    "name": "ipython",
    "version": 3
   },
   "file_extension": ".py",
   "mimetype": "text/x-python",
   "name": "python",
   "nbconvert_exporter": "python",
   "pygments_lexer": "ipython3",
   "version": "3.9.12"
  }
 },
 "nbformat": 4,
 "nbformat_minor": 5
}
